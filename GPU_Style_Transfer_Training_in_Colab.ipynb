{
  "nbformat": 4,
  "nbformat_minor": 0,
  "metadata": {
    "colab": {
      "name": "GPU Style Transfer Training in Colab.ipynb",
      "private_outputs": true,
      "provenance": [],
      "toc_visible": true,
      "machine_shape": "hm",
      "include_colab_link": true
    },
    "kernelspec": {
      "name": "python3",
      "display_name": "Python 3"
    },
    "accelerator": "GPU"
  },
  "cells": [
    {
      "cell_type": "markdown",
      "metadata": {
        "id": "view-in-github",
        "colab_type": "text"
      },
      "source": [
        "<a href=\"https://colab.research.google.com/github/LillianLimd/openFrameworks/blob/master/GPU_Style_Transfer_Training_in_Colab.ipynb\" target=\"_parent\"><img src=\"https://colab.research.google.com/assets/colab-badge.svg\" alt=\"Open In Colab\"/></a>"
      ]
    },
    {
      "cell_type": "markdown",
      "metadata": {
        "id": "18hpBW9tCakR"
      },
      "source": [
        "# What are we lookin' at here?\n",
        "\n",
        "![Style Transfer Reference](https://drive.google.com/uc?id=1YV2CtutL2bMX5sVc8zxwCm4WqWNJdmSA)\n",
        "\n",
        "**Colab Notebooks**:\n",
        "\n",
        "This is a Google Colab Jupyter Notebook. If you've never used one before, they're a cool way to run code without having to do a bunch of setup on your own computer. You run the code by pushing the play button next to each code block below.\n",
        "\n",
        "**Style Transfer**: \n",
        "\n",
        "This particular notebook shows you how to train a Style Transfer Machine Learning model on your own images. Style Transfer takes the content of one image (hereafter referred to as the `content image`) and renders them in the style of another image (the `style image`)."
      ]
    },
    {
      "cell_type": "markdown",
      "metadata": {
        "id": "6tbX1-pVRVPm"
      },
      "source": [
        "# Preparation\n",
        "\n",
        "**Before you do anything in this notebook:**\n",
        "\n",
        "In a separate browser tab, open up Google drive. \n",
        "\n",
        "Make a folder called `colab-files` and put a content image (item you want to stylize) in your Google drive, as well as a style image (style of the image you want to mimic). For this demo, we'll put them in the `colab-files` folder we just made, and call them `style.jpg` and `content.jpg`. These should be small (max 600px w h ) to eliminate longer training times than colab will allow.\n",
        "\n",
        "In that same folder, put two more folders called `checkpoint` and `test`\n",
        "\n",
        "---\n",
        "\n"
      ]
    },
    {
      "cell_type": "markdown",
      "metadata": {
        "id": "HqtGEtuBKRy9"
      },
      "source": [
        "# Mounting Your Drive\n",
        "\n",
        "Click play below, authenticate and allow Google to mount your drive, then copy the link and paste in the field below, then hit return to mount your google drive within this notebook"
      ]
    },
    {
      "cell_type": "code",
      "metadata": {
        "id": "tJZlycxBI9JA"
      },
      "source": [
        "from google.colab import drive\n",
        "drive.mount('/content/drive/')"
      ],
      "execution_count": null,
      "outputs": []
    },
    {
      "cell_type": "markdown",
      "metadata": {
        "id": "9bJg4I0fKYdV"
      },
      "source": [
        "list the files at the root of your google drive, and make sure you can see your `colab-files` directory."
      ]
    },
    {
      "cell_type": "code",
      "metadata": {
        "id": "xwDPPefZKDFI"
      },
      "source": [
        "!ls \"/content/drive/My Drive/colab-files\""
      ],
      "execution_count": null,
      "outputs": []
    },
    {
      "cell_type": "markdown",
      "metadata": {
        "id": "_4FpkE8iKr3p"
      },
      "source": [
        "# Runtime Hardware\n",
        "\n",
        "Make sure you're using Colab's GPUs. You can enable them by going to `Runtime > Change Runtime Type` and Select `Runtime Type: Python 3, Hardware Accelerator: GPU, and Runtime Shape: High RAM`"
      ]
    },
    {
      "cell_type": "code",
      "metadata": {
        "id": "1t2EJQh7Kj84"
      },
      "source": [
        "gpu_info = !nvidia-smi\n",
        "gpu_info = '\\n'.join(gpu_info)\n",
        "if gpu_info.find('failed') >= 0:\n",
        "  print('Select the Runtime → \"Change runtime type\" menu to enable a GPU accelerator, ')\n",
        "  print('and then re-execute this cell.')\n",
        "else:\n",
        "  print('you are using the GPU!')\n",
        "  print(gpu_info)"
      ],
      "execution_count": null,
      "outputs": []
    },
    {
      "cell_type": "markdown",
      "metadata": {
        "id": "vxpMsP_4KxiZ"
      },
      "source": [
        "Make sure you're using available RAM"
      ]
    },
    {
      "cell_type": "code",
      "metadata": {
        "id": "tcxKryW3K1In"
      },
      "source": [
        "from psutil import virtual_memory\n",
        "ram_gb = virtual_memory().total / 1e9\n",
        "print('Your runtime has {:.1f} gigabytes of available RAM\\n'.format(ram_gb))\n",
        "\n",
        "if ram_gb < 20:\n",
        "  print('To enable a high-RAM runtime, select the Runtime → \"Change runtime type\"')\n",
        "  print('menu, and then select High-RAM in the Runtime shape dropdown. Then, ')\n",
        "  print('re-execute this cell.')\n",
        "else:\n",
        "  print('You are using a high-RAM runtime!')"
      ],
      "execution_count": null,
      "outputs": []
    },
    {
      "cell_type": "markdown",
      "metadata": {
        "id": "kZbG9lmlLQ6T"
      },
      "source": [
        "# Get Fast Style Transfer Repo"
      ]
    },
    {
      "cell_type": "code",
      "metadata": {
        "id": "N-mygJFkLS_a"
      },
      "source": [
        "!git clone https://github.com/lengstrom/fast-style-transfer"
      ],
      "execution_count": null,
      "outputs": []
    },
    {
      "cell_type": "markdown",
      "metadata": {
        "id": "21NSJIWZQEhq"
      },
      "source": [
        "Change to the fast-style-transfer directory"
      ]
    },
    {
      "cell_type": "code",
      "metadata": {
        "id": "hcvWo-T6Pp7-"
      },
      "source": [
        "cd '/content/fast-style-transfer'"
      ],
      "execution_count": null,
      "outputs": []
    },
    {
      "cell_type": "markdown",
      "metadata": {
        "id": "U38ZOWprWXVa"
      },
      "source": [
        "# Setup\n",
        "\n",
        "Run the setup script, which will download the necessary dependencies, including a very large dataset - this has taken me as little as 10 and as much as about 20 minutes. It's done when the spinning stop icon goes away.\n",
        "\n",
        "---\n",
        "\n"
      ]
    },
    {
      "cell_type": "code",
      "metadata": {
        "id": "5HvGj3d4T7e9"
      },
      "source": [
        "!sh setup.sh"
      ],
      "execution_count": null,
      "outputs": []
    },
    {
      "cell_type": "markdown",
      "metadata": {
        "id": "8qOqq21tgwPy"
      },
      "source": [
        "Fix an issue with incompatibilities in the latest scipy by installing a specific, older version. When it prompts you to proceed, type `y` then hit enter."
      ]
    },
    {
      "cell_type": "code",
      "metadata": {
        "id": "MkwmLp7XcIQS"
      },
      "source": [
        "!pip uninstall scipy\n",
        "!pip install scipy==1.1.0"
      ],
      "execution_count": null,
      "outputs": []
    },
    {
      "cell_type": "markdown",
      "metadata": {
        "id": "dwLUIGvxiPEs"
      },
      "source": [
        "# Training\n",
        "\n",
        "We can now begin training.\n",
        "\n",
        "Make sure that if you created your style and content images or your checkpoint and test directories in a different google drive location, you change the paths below.\n",
        "\n",
        "You can adjust the content weight here. Higher numbers favor maintaining the content image's appearance, and lower favor the style image.\n",
        "\n",
        "Change the iterations to whatever you'd like. The default for this repo is 2000. \n",
        "\n",
        "Begin training by hitting play below. **This will take a long time** (~6 hours for defaults with a small image). You can speed it up by lowering the number of iterations. If you just want to get a sense of how things look, try 100 iterations.\n",
        "\n",
        "Note that Google Colab can disconnect you, and those disconnect times are uncertain, but [seem to max out at about 12 hours of GPU usage](https://stackoverflow.com/questions/55050988/can-i-run-a-google-colab-free-edition-script-and-then-shutdown-my-computer).\n",
        "\n"
      ]
    },
    {
      "cell_type": "code",
      "metadata": {
        "id": "5bzgUVbjZoDn"
      },
      "source": [
        "!python style.py --style /content/drive/My\\ Drive/colab-files/style.jpg \\\n",
        "  --checkpoint-dir /content/drive/My\\ Drive/colab-files/checkpoint \\\n",
        "  --test /content/drive/My\\ Drive/colab-files/content.jpg \\\n",
        "  --test-dir /content/drive/My\\ Drive/colab-files/test \\\n",
        "  --content-weight 15 \\\n",
        "  --checkpoint-iterations 900 \\\n",
        "  --batch-size 20"
      ],
      "execution_count": null,
      "outputs": []
    },
    {
      "cell_type": "markdown",
      "metadata": {
        "id": "sqsoIflTji9Q"
      },
      "source": [
        "**Q**: Is it working? This is taking forever...\n",
        "\n",
        "**A**:\n",
        "\n",
        "Is the play button a stop icon? Is it spinning?\n",
        "\n",
        "Do you see something in the output like:\n",
        "\n",
        "`Epoch 0, Iteration: 1300, Loss: 13707578.0`\n",
        "\n",
        "Are there multiple of these?\n",
        "Are the iterations increasing?\n",
        "Is this loss generally going down?\n",
        "\n",
        "If you look in your `checkpoint` directory in your google drive, do you see a few files, including\n",
        "\n",
        "```\n",
        "checkpoint\n",
        "fns.ckpt.index\n",
        "fns.ckpt.meta\n",
        "fns.ckpt.data-...\n",
        "```\n",
        "\n",
        "Is that meta file more than 100MB in size?\n",
        "\n",
        "If all of these are true - yes, it is probably working! and learning! and saving!\n",
        "\n",
        "\n",
        "\n",
        "---\n",
        "\n",
        "\n",
        "\n",
        "**Q**: Can I Stop It?\n",
        "\n",
        "**A**: Yes, you should be able to stop the training and use the results of your checkpoint directory in for the steps below.\n",
        "\n",
        "---\n",
        "\n",
        "**Q**: What now?\n",
        "\n",
        "**A**: You can use this model in Tensorflow by downloading the \"checkpoint\" directory. \n",
        "\n",
        "**If you want to use this model in Tensorflow.js**: read on for how to convert it tensorflow.js format and run a visualizer which renders your webcam feed in the style of your trained image.\n",
        "\n",
        "---\n",
        "\n",
        "**Q**: What's up with that `test` directory?\n",
        "\n",
        "**A**: It should be full of images. That's the result of your model as it trains. You should see the images getting closer and closer to a blend of the content and style image as they train.\n",
        "\n",
        "![Training Process](https://drive.google.com/uc?id=1FASMK9C59vBOH0EQhCZE3E-BNhaMOYiB)\n",
        "\n",
        "---\n",
        "\n",
        "\n"
      ]
    },
    {
      "cell_type": "markdown",
      "metadata": {
        "id": "PjCLb4C-iuFE"
      },
      "source": [
        "# Applying Style Transfer to Multiple Images\n",
        "\n",
        "If you want to use your model on many content images at once, gather those images, place them in a folder called `evaluate` within your `colab-files` directory on Google Drive, make another empty folder called `results` within the `colab-files` directory, and then run the evaluate script:"
      ]
    },
    {
      "cell_type": "code",
      "metadata": {
        "id": "r_ElaDlojg7d"
      },
      "source": [
        "!python evaluate.py --checkpoint /content/drive/My\\ Drive/colab-files/checkpoint/ \\\n",
        "  --in-path /content/drive/My\\ Drive/colab-files/evaluate/ \\\n",
        "  --out-path /content/drive/My\\ Drive/colab-files/results/ \\\n",
        "  --allow-different-dimensions"
      ],
      "execution_count": null,
      "outputs": []
    },
    {
      "cell_type": "markdown",
      "metadata": {
        "id": "FRDcqfnF4tKJ"
      },
      "source": [
        "# Converting to Tensorflow.js\n",
        "\n",
        "The following repo has a script that will help us convert our files from tensorflow to tensorflow.js-friendly format. We're going to clone it - the default folder I'm specifying will be the `colab-files/fst` directory."
      ]
    },
    {
      "cell_type": "code",
      "metadata": {
        "id": "JwK-ZcUMjk_p"
      },
      "source": [
        "!git clone https://github.com/reiinakano/fast-style-transfer-deeplearnjs.git /content/drive/My\\ Drive/colab-files/fst"
      ],
      "execution_count": null,
      "outputs": []
    },
    {
      "cell_type": "markdown",
      "metadata": {
        "id": "3EKYeybn76i5"
      },
      "source": [
        "...and now we change into that directory..."
      ]
    },
    {
      "cell_type": "code",
      "metadata": {
        "id": "nUa4EKmg47Mu"
      },
      "source": [
        "cd /content/drive/My\\ Drive/colab-files/fst"
      ],
      "execution_count": null,
      "outputs": []
    },
    {
      "cell_type": "code",
      "metadata": {
        "id": "5H2Gt0IP5GFd"
      },
      "source": [
        "!python scripts/dump_checkpoint_vars.py --output_dir=src/ckpts/mystyle --checkpoint_file=/content/drive/My\\ Drive/colab-files/checkpoint/fns.ckpt"
      ],
      "execution_count": null,
      "outputs": []
    },
    {
      "cell_type": "code",
      "metadata": {
        "id": "sQ2RGEM16TE1"
      },
      "source": [
        "!python scripts/remove_optimizer_variables.py --output_dir=src/ckpts/mystyle"
      ],
      "execution_count": null,
      "outputs": []
    },
    {
      "cell_type": "markdown",
      "metadata": {
        "id": "nBgWmBDS7d52"
      },
      "source": [
        "You are done! Go to the directory on your Google Drive where these have been saved (`colab-files/src/checkpoints/mystyle` if you didn't change anything) and download the `mystyle` folder that was made.\n",
        "\n",
        "You can now use this within tensorflow.js. Follow along below for an example of how to do that with a javascript library called ML5 and your webcam.\n",
        "\n",
        "---\n",
        "\n",
        "# Webcam Style Transfer Visualizer in the Browser Using ML5 and Tensorflow.js\n",
        "\n",
        "If you want to see your results, clone or download [this repo](https://github.com/heaversm/colab-style-transfer-training-test) and follow the instructions in the README.md file in order to visualize the content of your webcam in the style of your newly trained model!\n",
        "\n",
        "This notebook was only possible through the code and documentation of [Logan Engstrom et al](https://github.com/lengstrom/fast-style-transfer), [Reii Nakano](https://github.com/reiinakano), and [Yining Shi](https://github.com/yining1023).\n",
        "\n",
        "\n",
        "\n",
        "---\n",
        "\n",
        "# Thanks!\n",
        "\n",
        "If any of this was helpful, I always love to hear about it and see what people create!"
      ]
    }
  ]
}